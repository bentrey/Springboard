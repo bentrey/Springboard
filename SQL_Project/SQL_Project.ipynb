{
 "cells": [
  {
   "cell_type": "markdown",
   "metadata": {},
   "source": [
    "<p>Ben Trey<br>\n",
    "SQL Project<br>\n",
    "Data Science Track<br>\n",
    "2019/6/26</p>"
   ]
  },
  {
   "cell_type": "code",
   "execution_count": 6,
   "metadata": {},
   "outputs": [],
   "source": [
    "import sqlite3\n",
    "from sqlite3 import OperationalError"
   ]
  },
  {
   "cell_type": "code",
   "execution_count": 12,
   "metadata": {},
   "outputs": [],
   "source": [
    "directory = '/mnt/c/users/我的电脑/Desktop/springboard/'\n",
    "country_club = sqlite3.connect(directory+'country_club.db') \n",
    "country_cursor = country_club.cursor()\n",
    "commands_file = open(directory+'country_club.sql','r')\n",
    "commands = commands_file.read()\n",
    "commands_file.close()\n",
    "commands_list=commands.split(';')\n",
    "country_cursor.execute('DROP TABLE Bookings;')\n",
    "for command in commands_list:\n",
    "    command += ';'\n",
    "    try:\n",
    "        country_cursor.execute(command)\n",
    "    except OperationalError:\n",
    "        print(command)\n"
   ]
  },
  {
   "cell_type": "markdown",
   "metadata": {},
   "source": [
    "<p>Q1: Some of the facilities charge a fee to members, but some do not.\n",
    "Please list the names of the facilities that do.</p>"
   ]
  },
  {
   "cell_type": "code",
   "execution_count": 23,
   "metadata": {},
   "outputs": [
    {
     "name": "stdout",
     "output_type": "stream",
     "text": [
      "SELECT name FROM facilities WHERE membercost=0.0\n",
      "\n",
      "Badminton Court\n",
      "Table Tennis\n",
      "Snooker Table\n",
      "Pool Table\n"
     ]
    }
   ],
   "source": [
    "sql_command='''SELECT name FROM facilities WHERE membercost=0.0'''\n",
    "print(sql_command+'\\n')\n",
    "country_cursor.execute(sql_command)\n",
    "results=country_cursor.fetchall()\n",
    "for result in results:\n",
    "    print(result[0])"
   ]
  },
  {
   "cell_type": "markdown",
   "metadata": {},
   "source": [
    "<p>Q2: How many facilities do not charge a fee to members?</p>"
   ]
  },
  {
   "cell_type": "code",
   "execution_count": 22,
   "metadata": {},
   "outputs": [
    {
     "name": "stdout",
     "output_type": "stream",
     "text": [
      "SELECT COUNT(name) FROM facilities WHERE membercost=0.0\n",
      "\n",
      "4\n"
     ]
    }
   ],
   "source": [
    "sql_command='''SELECT COUNT(name) FROM facilities WHERE membercost=0.0'''\n",
    "print(sql_command+'\\n')\n",
    "country_cursor.execute(sql_command)\n",
    "results=country_cursor.fetchall()\n",
    "for result in results:\n",
    "    print(result[0])"
   ]
  },
  {
   "cell_type": "markdown",
   "metadata": {},
   "source": [
    "<p>Q3: How can you produce a list of facilities that charge a fee to members,\n",
    "where the fee is less than 20% of the facility's monthly maintenance cost?\n",
    "Return the facid, facility name, member cost, and monthly maintenance of the\n",
    "facilities in question. </p>"
   ]
  },
  {
   "cell_type": "code",
   "execution_count": 21,
   "metadata": {},
   "outputs": [
    {
     "name": "stdout",
     "output_type": "stream",
     "text": [
      "SELECT facid, name, membercost, monthlymaintenance \n",
      "    FROM facilities WHERE membercost<0.2*monthlymaintenance\n",
      "\n",
      "(Facility ID, Name, Member Cost, Monthly Maintenance)\n",
      "(0, 'Tennis Court 1', 5, 200)\n",
      "(1, 'Tennis Court 2', 5, 200)\n",
      "(2, 'Badminton Court', 0, 50)\n",
      "(3, 'Table Tennis', 0, 10)\n",
      "(4, 'Massage Room 1', 9.9, 3000)\n",
      "(5, 'Massage Room 2', 9.9, 3000)\n",
      "(6, 'Squash Court', 3.5, 80)\n",
      "(7, 'Snooker Table', 0, 15)\n",
      "(8, 'Pool Table', 0, 15)\n"
     ]
    }
   ],
   "source": [
    "sql_command='''SELECT facid, name, membercost, monthlymaintenance \n",
    "    FROM facilities WHERE membercost<0.2*monthlymaintenance'''\n",
    "print(sql_command+'\\n')\n",
    "country_cursor.execute(sql_command)\n",
    "results=country_cursor.fetchall()\n",
    "print('(Facility ID, Name, Member Cost, Monthly Maintenance)')\n",
    "for result in results:\n",
    "    print(result)"
   ]
  },
  {
   "cell_type": "markdown",
   "metadata": {},
   "source": [
    "<p>Q4: How can you retrieve the details of facilities with ID 1 and 5?\n",
    "Write the query without using the OR operator. </p>"
   ]
  },
  {
   "cell_type": "code",
   "execution_count": 27,
   "metadata": {},
   "outputs": [
    {
     "name": "stdout",
     "output_type": "stream",
     "text": [
      "SELECT facid, name FROM facilities WHERE facid IN (1,5)\n",
      "\n",
      "(1, 'Tennis Court 2')\n",
      "(5, 'Massage Room 2')\n"
     ]
    }
   ],
   "source": [
    "sql_command='''SELECT facid, name FROM facilities WHERE facid IN (1,5)'''\n",
    "print(sql_command+'\\n')\n",
    "country_cursor.execute(sql_command)\n",
    "results=country_cursor.fetchall()\n",
    "for result in results:\n",
    "    print(result)"
   ]
  },
  {
   "cell_type": "markdown",
   "metadata": {},
   "source": [
    "<p>Q5: How can you produce a list of facilities, with each labelled as\n",
    "'cheap' or 'expensive', depending on if their monthly maintenance cost is\n",
    "more than $100? Return the name and monthly maintenance of the facilities\n",
    "in question.</p>"
   ]
  },
  {
   "cell_type": "code",
   "execution_count": 29,
   "metadata": {},
   "outputs": [
    {
     "name": "stdout",
     "output_type": "stream",
     "text": [
      "SELECT name,\n",
      "       CASE WHEN monthlymaintenance < 100 THEN 'yes'\n",
      "            ELSE 'no' END AS cheap\n",
      "  FROM facilities\n",
      "\n",
      "('Tennis Court 1', 'no')\n",
      "('Tennis Court 2', 'no')\n",
      "('Badminton Court', 'yes')\n",
      "('Table Tennis', 'yes')\n",
      "('Massage Room 1', 'no')\n",
      "('Massage Room 2', 'no')\n",
      "('Squash Court', 'yes')\n",
      "('Snooker Table', 'yes')\n",
      "('Pool Table', 'yes')\n"
     ]
    }
   ],
   "source": [
    "sql_command='''SELECT name,\n",
    "       CASE WHEN monthlymaintenance < 100 THEN 'yes'\n",
    "            ELSE 'no' END AS cheap\n",
    "  FROM facilities'''\n",
    "print(sql_command+'\\n')\n",
    "country_cursor.execute(sql_command)\n",
    "results=country_cursor.fetchall()\n",
    "for result in results:\n",
    "    print(result)"
   ]
  },
  {
   "cell_type": "markdown",
   "metadata": {},
   "source": [
    "<p>Q6: You'd like to get the first and last name of the last member(s)\n",
    "who signed up. Do not use the LIMIT clause for your solution.</p>"
   ]
  },
  {
   "cell_type": "code",
   "execution_count": 37,
   "metadata": {},
   "outputs": [
    {
     "name": "stdout",
     "output_type": "stream",
     "text": [
      "SELECT firstname, surname, MAX(joindate) AS max_joindate FROM Members;\n",
      "\n",
      "('Darren', 'Smith', '2012-09-26 18:08:45')\n"
     ]
    }
   ],
   "source": [
    "sql_command='''SELECT firstname, surname, MAX(joindate) AS max_joindate FROM Members;'''\n",
    "print(sql_command+'\\n')\n",
    "country_cursor.execute(sql_command)\n",
    "results=country_cursor.fetchall()\n",
    "for result in results:\n",
    "    print(result)"
   ]
  },
  {
   "cell_type": "markdown",
   "metadata": {},
   "source": [
    "<p>Q7: How can you produce a list of all members who have used a tennis court?\n",
    "Include in your output the name of the court, and the name of the member\n",
    "formatted as a single column. Ensure no duplicate data, and order by\n",
    "the member name.</p>"
   ]
  },
  {
   "cell_type": "code",
   "execution_count": 69,
   "metadata": {},
   "outputs": [
    {
     "name": "stdout",
     "output_type": "stream",
     "text": [
      "SELECT DISTINCT Members.surname || ', ' || Members.firstname || ' ' ||\n",
      "  Facilities.name AS result\n",
      "FROM Bookings\n",
      "LEFT JOIN Members\n",
      "  ON Bookings.memid = Members.memid\n",
      "LEFT JOIN Facilities\n",
      "  ON Bookings.facid = Facilities.facid\n",
      "WHERE Bookings.facid=0 OR Bookings.facid=1\n",
      "ORDER BY Members.surname, Members.firstname;\n",
      "\n",
      "Bader, Florence Tennis Court 2\n",
      "Bader, Florence Tennis Court 1\n",
      "Baker, Anne Tennis Court 1\n",
      "Baker, Anne Tennis Court 2\n",
      "Baker, Timothy Tennis Court 2\n",
      "Baker, Timothy Tennis Court 1\n",
      "Boothe, Tim Tennis Court 2\n",
      "Boothe, Tim Tennis Court 1\n",
      "Butters, Gerald Tennis Court 1\n",
      "Butters, Gerald Tennis Court 2\n",
      "Coplin, Joan Tennis Court 1\n",
      "Crumpet, Erica Tennis Court 1\n",
      "Dare, Nancy Tennis Court 2\n",
      "Dare, Nancy Tennis Court 1\n",
      "Farrell, David Tennis Court 1\n",
      "Farrell, David Tennis Court 2\n",
      "Farrell, Jemima Tennis Court 2\n",
      "Farrell, Jemima Tennis Court 1\n",
      "GUEST, GUEST Tennis Court 2\n",
      "GUEST, GUEST Tennis Court 1\n",
      "Genting, Matthew Tennis Court 1\n",
      "Hunt, John Tennis Court 1\n",
      "Hunt, John Tennis Court 2\n",
      "Jones, David Tennis Court 2\n",
      "Jones, David Tennis Court 1\n",
      "Jones, Douglas Tennis Court 1\n",
      "Joplette, Janice Tennis Court 1\n",
      "Joplette, Janice Tennis Court 2\n",
      "Owen, Charles Tennis Court 1\n",
      "Owen, Charles Tennis Court 2\n",
      "Pinker, David Tennis Court 1\n",
      "Purview, Millicent Tennis Court 2\n",
      "Rownam, Tim Tennis Court 2\n",
      "Rownam, Tim Tennis Court 1\n",
      "Rumney, Henrietta Tennis Court 2\n",
      "Sarwin, Ramnaresh Tennis Court 2\n",
      "Sarwin, Ramnaresh Tennis Court 1\n",
      "Smith, Darren Tennis Court 2\n",
      "Smith, Jack Tennis Court 1\n",
      "Smith, Jack Tennis Court 2\n",
      "Smith, Tracy Tennis Court 1\n",
      "Smith, Tracy Tennis Court 2\n",
      "Stibbons, Ponder Tennis Court 2\n",
      "Stibbons, Ponder Tennis Court 1\n",
      "Tracy, Burton Tennis Court 2\n",
      "Tracy, Burton Tennis Court 1\n"
     ]
    }
   ],
   "source": [
    "sql_command='''SELECT DISTINCT Members.surname || ', ' || Members.firstname || ' ' ||\n",
    "  Facilities.name AS result\n",
    "FROM Bookings\n",
    "LEFT JOIN Members\n",
    "  ON Bookings.memid = Members.memid\n",
    "LEFT JOIN Facilities\n",
    "  ON Bookings.facid = Facilities.facid\n",
    "WHERE Bookings.facid=0 OR Bookings.facid=1\n",
    "ORDER BY Members.surname, Members.firstname;'''\n",
    "print(sql_command+'\\n')\n",
    "country_cursor.execute(sql_command)\n",
    "results=country_cursor.fetchall()\n",
    "for result in results:\n",
    "    print(result[0])"
   ]
  },
  {
   "cell_type": "markdown",
   "metadata": {},
   "source": [
    "<p>Q8: How can you produce a list of bookings on the day of 2012-09-14 which\n",
    "will cost the member (or guest) more than $30? Remember that guests have\n",
    "different costs to members (the listed costs are per half-hour 'slot'), and\n",
    "the guest user's ID is always 0. Include in your output the name of the\n",
    "facility, the name of the member formatted as a single column, and the cost.\n",
    "Order by descending cost, and do not use any subqueries.</p>"
   ]
  },
  {
   "cell_type": "code",
   "execution_count": 119,
   "metadata": {},
   "outputs": [
    {
     "name": "stdout",
     "output_type": "stream",
     "text": [
      "DROP TABLE users_bookings;\n",
      "\n",
      "CREATE TABLE users_bookings AS SELECT Members.surname, Members.firstname, Facilities.name, \n",
      "  Facilities.membercost, Facilities.guestcost\n",
      "FROM Bookings\n",
      "LEFT JOIN Members\n",
      "  ON Bookings.memid = Members.memid\n",
      "LEFT JOIN Facilities\n",
      "  ON Bookings.facid = Facilities.facid\n",
      "WHERE DATE(Bookings.starttime)='2012-09-14';\n",
      "\n",
      "SELECT  name || ', ' || surname || ', ' || firstname || ', ', \n",
      "CASE WHEN name='GUEST' THEN guestcost\n",
      "ELSE membercost END AS cost\n",
      "FROM users_bookings\n",
      "ORDER BY cost DESC;\n",
      "\n",
      "('Massage Room 1, Smith, Jack, ', 9.9)\n",
      "('Massage Room 1, GUEST, GUEST, ', 9.9)\n",
      "('Massage Room 1, Farrell, Jemima, ', 9.9)\n",
      "('Massage Room 1, Stibbons, Ponder, ', 9.9)\n",
      "('Massage Room 1, GUEST, GUEST, ', 9.9)\n",
      "('Massage Room 1, Farrell, Jemima, ', 9.9)\n",
      "('Massage Room 1, GUEST, GUEST, ', 9.9)\n",
      "('Massage Room 1, Tracy, Burton, ', 9.9)\n",
      "('Massage Room 1, Genting, Matthew, ', 9.9)\n",
      "('Massage Room 2, Bader, Florence, ', 9.9)\n",
      "('Massage Room 2, GUEST, GUEST, ', 9.9)\n",
      "('Tennis Court 1, Tracy, Burton, ', 5)\n",
      "('Tennis Court 1, Pinker, David, ', 5)\n",
      "('Tennis Court 1, Butters, Gerald, ', 5)\n",
      "('Tennis Court 1, Rownam, Tim, ', 5)\n",
      "('Tennis Court 1, GUEST, GUEST, ', 5)\n",
      "('Tennis Court 1, Jones, Douglas, ', 5)\n",
      "('Tennis Court 1, GUEST, GUEST, ', 5)\n",
      "('Tennis Court 2, Jones, David, ', 5)\n",
      "('Tennis Court 2, Boothe, Tim, ', 5)\n",
      "('Tennis Court 2, GUEST, GUEST, ', 5)\n",
      "('Tennis Court 2, GUEST, GUEST, ', 5)\n",
      "('Squash Court, Baker, Anne, ', 3.5)\n",
      "('Squash Court, GUEST, GUEST, ', 3.5)\n",
      "('Squash Court, GUEST, GUEST, ', 3.5)\n",
      "('Squash Court, Baker, Timothy, ', 3.5)\n",
      "('Squash Court, GUEST, GUEST, ', 3.5)\n",
      "('Squash Court, Baker, Anne, ', 3.5)\n",
      "('Squash Court, Pinker, David, ', 3.5)\n",
      "('Badminton Court, Smith, Darren, ', 0)\n",
      "('Badminton Court, Mackenzie, Anna, ', 0)\n",
      "('Badminton Court, Smith, Darren, ', 0)\n",
      "('Badminton Court, Butters, Gerald, ', 0)\n",
      "('Badminton Court, Stibbons, Ponder, ', 0)\n",
      "('Table Tennis, Bader, Florence, ', 0)\n",
      "('Table Tennis, Baker, Timothy, ', 0)\n",
      "('Table Tennis, Genting, Matthew, ', 0)\n",
      "('Table Tennis, Mackenzie, Anna, ', 0)\n",
      "('Snooker Table, Owen, Charles, ', 0)\n",
      "('Snooker Table, Sarwin, Ramnaresh, ', 0)\n",
      "('Snooker Table, Stibbons, Ponder, ', 0)\n",
      "('Snooker Table, Mackenzie, Anna, ', 0)\n",
      "('Snooker Table, Sarwin, Ramnaresh, ', 0)\n",
      "('Pool Table, Rownam, Tim, ', 0)\n",
      "('Pool Table, Baker, Timothy, ', 0)\n",
      "('Pool Table, Smith, Tracy, ', 0)\n",
      "('Pool Table, Mackenzie, Anna, ', 0)\n",
      "('Pool Table, Rownam, Tim, ', 0)\n",
      "('Pool Table, Stibbons, Ponder, ', 0)\n",
      "('Pool Table, Rownam, Tim, ', 0)\n",
      "('Pool Table, Genting, Matthew, ', 0)\n",
      "('Pool Table, Mackenzie, Anna, ', 0)\n",
      "('Pool Table, Baker, Timothy, ', 0)\n",
      "('Pool Table, Sarwin, Ramnaresh, ', 0)\n",
      "('Pool Table, Genting, Matthew, ', 0)\n",
      "('Pool Table, Coplin, Joan, ', 0)\n",
      "('Pool Table, Baker, Timothy, ', 0)\n",
      "('Pool Table, Rownam, Tim, ', 0)\n",
      "('Pool Table, Bader, Florence, ', 0)\n",
      "('Pool Table, Baker, Timothy, ', 0)\n",
      "('Pool Table, Jones, David, ', 0)\n",
      "('Pool Table, Smith, Tracy, ', 0)\n"
     ]
    }
   ],
   "source": [
    "sql_commands=[\\\n",
    "'''DROP TABLE users_bookings;''',\\\n",
    "              \n",
    "'''CREATE TABLE users_bookings AS SELECT Members.surname, Members.firstname, Facilities.name, \n",
    "  Facilities.membercost, Facilities.guestcost\n",
    "FROM Bookings\n",
    "LEFT JOIN Members\n",
    "  ON Bookings.memid = Members.memid\n",
    "LEFT JOIN Facilities\n",
    "  ON Bookings.facid = Facilities.facid\n",
    "WHERE DATE(Bookings.starttime)='2012-09-14';''',\\\n",
    "              \n",
    "'''SELECT  name || ', ' || surname || ', ' || firstname || ', ', \n",
    "CASE WHEN name='GUEST' THEN guestcost\n",
    "ELSE membercost END AS cost\n",
    "FROM users_bookings\n",
    "ORDER BY cost DESC;''']\n",
    "\n",
    "for sql_command in sql_commands:\n",
    "    print(sql_command+'\\n')\n",
    "    country_cursor.execute(sql_command)\n",
    "results=country_cursor.fetchall()\n",
    "for result in results:\n",
    "    print(result)"
   ]
  },
  {
   "cell_type": "markdown",
   "metadata": {},
   "source": [
    "<p>Q9: This time, produce the same result as in Q8, but using a subquery.</p>"
   ]
  },
  {
   "cell_type": "code",
   "execution_count": 120,
   "metadata": {},
   "outputs": [
    {
     "name": "stdout",
     "output_type": "stream",
     "text": [
      "DROP TABLE users_bookings;\n",
      "\n",
      "SELECT  name || ', ' || surname || ', ' || firstname || ', ', \n",
      "CASE WHEN name='GUEST' THEN guestcost\n",
      "ELSE membercost END AS cost\n",
      "FROM (SELECT Members.surname, Members.firstname, Facilities.name, \n",
      "  Facilities.membercost, Facilities.guestcost\n",
      "FROM Bookings\n",
      "LEFT JOIN Members\n",
      "  ON Bookings.memid = Members.memid\n",
      "LEFT JOIN Facilities\n",
      "  ON Bookings.facid = Facilities.facid\n",
      "WHERE DATE(Bookings.starttime)='2012-09-14')\n",
      "ORDER BY cost DESC;\n",
      "\n",
      "('Massage Room 1, Smith, Jack, ', 9.9)\n",
      "('Massage Room 1, GUEST, GUEST, ', 9.9)\n",
      "('Massage Room 1, Farrell, Jemima, ', 9.9)\n",
      "('Massage Room 1, Stibbons, Ponder, ', 9.9)\n",
      "('Massage Room 1, GUEST, GUEST, ', 9.9)\n",
      "('Massage Room 1, Farrell, Jemima, ', 9.9)\n",
      "('Massage Room 1, GUEST, GUEST, ', 9.9)\n",
      "('Massage Room 1, Tracy, Burton, ', 9.9)\n",
      "('Massage Room 1, Genting, Matthew, ', 9.9)\n",
      "('Massage Room 2, Bader, Florence, ', 9.9)\n",
      "('Massage Room 2, GUEST, GUEST, ', 9.9)\n",
      "('Tennis Court 1, Tracy, Burton, ', 5)\n",
      "('Tennis Court 1, Pinker, David, ', 5)\n",
      "('Tennis Court 1, Butters, Gerald, ', 5)\n",
      "('Tennis Court 1, Rownam, Tim, ', 5)\n",
      "('Tennis Court 1, GUEST, GUEST, ', 5)\n",
      "('Tennis Court 1, Jones, Douglas, ', 5)\n",
      "('Tennis Court 1, GUEST, GUEST, ', 5)\n",
      "('Tennis Court 2, Jones, David, ', 5)\n",
      "('Tennis Court 2, Boothe, Tim, ', 5)\n",
      "('Tennis Court 2, GUEST, GUEST, ', 5)\n",
      "('Tennis Court 2, GUEST, GUEST, ', 5)\n",
      "('Squash Court, Baker, Anne, ', 3.5)\n",
      "('Squash Court, GUEST, GUEST, ', 3.5)\n",
      "('Squash Court, GUEST, GUEST, ', 3.5)\n",
      "('Squash Court, Baker, Timothy, ', 3.5)\n",
      "('Squash Court, GUEST, GUEST, ', 3.5)\n",
      "('Squash Court, Baker, Anne, ', 3.5)\n",
      "('Squash Court, Pinker, David, ', 3.5)\n",
      "('Badminton Court, Smith, Darren, ', 0)\n",
      "('Badminton Court, Mackenzie, Anna, ', 0)\n",
      "('Badminton Court, Smith, Darren, ', 0)\n",
      "('Badminton Court, Butters, Gerald, ', 0)\n",
      "('Badminton Court, Stibbons, Ponder, ', 0)\n",
      "('Table Tennis, Bader, Florence, ', 0)\n",
      "('Table Tennis, Baker, Timothy, ', 0)\n",
      "('Table Tennis, Genting, Matthew, ', 0)\n",
      "('Table Tennis, Mackenzie, Anna, ', 0)\n",
      "('Snooker Table, Owen, Charles, ', 0)\n",
      "('Snooker Table, Sarwin, Ramnaresh, ', 0)\n",
      "('Snooker Table, Stibbons, Ponder, ', 0)\n",
      "('Snooker Table, Mackenzie, Anna, ', 0)\n",
      "('Snooker Table, Sarwin, Ramnaresh, ', 0)\n",
      "('Pool Table, Rownam, Tim, ', 0)\n",
      "('Pool Table, Baker, Timothy, ', 0)\n",
      "('Pool Table, Smith, Tracy, ', 0)\n",
      "('Pool Table, Mackenzie, Anna, ', 0)\n",
      "('Pool Table, Rownam, Tim, ', 0)\n",
      "('Pool Table, Stibbons, Ponder, ', 0)\n",
      "('Pool Table, Rownam, Tim, ', 0)\n",
      "('Pool Table, Genting, Matthew, ', 0)\n",
      "('Pool Table, Mackenzie, Anna, ', 0)\n",
      "('Pool Table, Baker, Timothy, ', 0)\n",
      "('Pool Table, Sarwin, Ramnaresh, ', 0)\n",
      "('Pool Table, Genting, Matthew, ', 0)\n",
      "('Pool Table, Coplin, Joan, ', 0)\n",
      "('Pool Table, Baker, Timothy, ', 0)\n",
      "('Pool Table, Rownam, Tim, ', 0)\n",
      "('Pool Table, Bader, Florence, ', 0)\n",
      "('Pool Table, Baker, Timothy, ', 0)\n",
      "('Pool Table, Jones, David, ', 0)\n",
      "('Pool Table, Smith, Tracy, ', 0)\n"
     ]
    }
   ],
   "source": [
    "sql_commands=[\\\n",
    "'''DROP TABLE users_bookings;''',\\\n",
    "                            \n",
    "'''SELECT  name || ', ' || surname || ', ' || firstname || ', ', \n",
    "CASE WHEN name='GUEST' THEN guestcost\n",
    "ELSE membercost END AS cost\n",
    "FROM (SELECT Members.surname, Members.firstname, Facilities.name, \n",
    "  Facilities.membercost, Facilities.guestcost\n",
    "FROM Bookings\n",
    "LEFT JOIN Members\n",
    "  ON Bookings.memid = Members.memid\n",
    "LEFT JOIN Facilities\n",
    "  ON Bookings.facid = Facilities.facid\n",
    "WHERE DATE(Bookings.starttime)='2012-09-14')\n",
    "ORDER BY cost DESC;''']\n",
    "\n",
    "for sql_command in sql_commands:\n",
    "    print(sql_command+'\\n')\n",
    "    country_cursor.execute(sql_command)\n",
    "results=country_cursor.fetchall()\n",
    "for result in results:\n",
    "    print(result)"
   ]
  },
  {
   "cell_type": "markdown",
   "metadata": {},
   "source": [
    "<p> Q10: Produce a list of facilities with a total revenue less than 1000.\n",
    "The output of facility name and total revenue, sorted by revenue. Remember\n",
    "that there's a different cost for guests and members!</p>"
   ]
  },
  {
   "cell_type": "code",
   "execution_count": 138,
   "metadata": {},
   "outputs": [
    {
     "name": "stdout",
     "output_type": "stream",
     "text": [
      "DROP TABLE users_bookings;\n",
      "\n",
      "DROP TABLE facilities_revenue;\n",
      "\n",
      "DROP TABLE total_revenues;\n",
      "\n",
      "CREATE TABLE users_bookings AS SELECT Members.surname, Members.firstname, Facilities.name, \n",
      "  Facilities.membercost, Facilities.guestcost\n",
      "FROM Bookings\n",
      "LEFT JOIN Members\n",
      "  ON Bookings.memid = Members.memid\n",
      "LEFT JOIN Facilities\n",
      "  ON Bookings.facid = Facilities.facid;\n",
      "\n",
      "CREATE TABLE facilities_revenue AS SELECT name,\n",
      "CASE WHEN name='GUEST' THEN guestcost\n",
      "ELSE membercost END AS revenue\n",
      "FROM users_bookings;\n",
      "\n",
      "CREATE TABLE total_revenues AS SELECT name,\n",
      "SUM(revenue) as total_revenue\n",
      "FROM facilities_revenue\n",
      "GROUP BY name\n",
      "\n",
      "SELECT name,total_revenue\n",
      "FROM total_revenues \n",
      "WHERE total_revenue<1000\n",
      "ORDER BY total_revenue\n",
      "\n",
      "('Badminton Court', 0)\n",
      "('Pool Table', 0)\n",
      "('Snooker Table', 0)\n",
      "('Table Tennis', 0)\n"
     ]
    }
   ],
   "source": [
    "sql_commands=[\\\n",
    "'''DROP TABLE users_bookings;''',\\\n",
    "'''DROP TABLE facilities_revenue;''',\\\n",
    "'''DROP TABLE total_revenues;''',\\\n",
    "              \n",
    "'''CREATE TABLE users_bookings AS SELECT Members.surname, Members.firstname, Facilities.name, \n",
    "  Facilities.membercost, Facilities.guestcost\n",
    "FROM Bookings\n",
    "LEFT JOIN Members\n",
    "  ON Bookings.memid = Members.memid\n",
    "LEFT JOIN Facilities\n",
    "  ON Bookings.facid = Facilities.facid;''',\\\n",
    "              \n",
    "'''CREATE TABLE facilities_revenue AS SELECT name,\n",
    "CASE WHEN name='GUEST' THEN guestcost\n",
    "ELSE membercost END AS revenue\n",
    "FROM users_bookings;''',\\\n",
    "\n",
    "'''CREATE TABLE total_revenues AS SELECT name,\n",
    "SUM(revenue) as total_revenue\n",
    "FROM facilities_revenue\n",
    "GROUP BY name''',\\\n",
    "\n",
    "'''SELECT name,total_revenue\n",
    "FROM total_revenues \n",
    "WHERE total_revenue<1000\n",
    "ORDER BY total_revenue''']\n",
    "\n",
    "for sql_command in sql_commands:\n",
    "    print(sql_command+'\\n')\n",
    "    country_cursor.execute(sql_command)\n",
    "results=country_cursor.fetchall()\n",
    "for result in results:\n",
    "    print(result)\n",
    "        "
   ]
  }
 ],
 "metadata": {
  "kernelspec": {
   "display_name": "Python 3",
   "language": "python",
   "name": "python3"
  },
  "language_info": {
   "codemirror_mode": {
    "name": "ipython",
    "version": 3
   },
   "file_extension": ".py",
   "mimetype": "text/x-python",
   "name": "python",
   "nbconvert_exporter": "python",
   "pygments_lexer": "ipython3",
   "version": "3.6.7"
  }
 },
 "nbformat": 4,
 "nbformat_minor": 2
}
