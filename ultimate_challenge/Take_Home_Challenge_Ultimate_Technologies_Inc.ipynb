{
 "cells": [
  {
   "cell_type": "markdown",
   "metadata": {},
   "source": [
    "<p>Ben Trey<br>\n",
    "Take-Home Challenge: Ultimate Technologies Inc.<br>\n",
    "2019/12/30</p>"
   ]
  },
  {
   "cell_type": "code",
   "execution_count": 260,
   "metadata": {},
   "outputs": [],
   "source": [
    "import json\n",
    "import datetime\n",
    "import pandas as pd\n",
    "import seaborn as sns\n",
    "import matplotlib.pyplot as plt\n",
    "\n",
    "from sklearn.model_selection import train_test_split\n",
    "from sklearn.linear_model import LogisticRegression\n",
    "from sklearn.ensemble import RandomForestRegressor\n",
    "from sklearn.naive_bayes import MultinomialNB\n",
    "from sklearn.metrics import accuracy_score\n",
    "\n",
    "directory = \"/mnt/c/users/我的电脑/desktop/springboard/ultimate_challenge/\""
   ]
  },
  {
   "cell_type": "markdown",
   "metadata": {},
   "source": [
    "<h1>Part 1 ‑ Exploratory data analysis</h1>\n",
    "<p>The attached logins.json file contains (simulated) timestamps of user logins in a particular\n",
    "geographic location. Aggregate these login counts based on 15­minute time intervals, and\n",
    "visualize and describe the resulting time series of login counts in ways that best characterize the\n",
    "underlying patterns of the demand. Please report/illustrate important features of the demand,\n",
    "such as daily cycles. If there are data quality issues, please report them.</p>\n"
   ]
  },
  {
   "cell_type": "code",
   "execution_count": 25,
   "metadata": {},
   "outputs": [
    {
     "data": {
      "text/html": [
       "<div>\n",
       "<style scoped>\n",
       "    .dataframe tbody tr th:only-of-type {\n",
       "        vertical-align: middle;\n",
       "    }\n",
       "\n",
       "    .dataframe tbody tr th {\n",
       "        vertical-align: top;\n",
       "    }\n",
       "\n",
       "    .dataframe thead th {\n",
       "        text-align: right;\n",
       "    }\n",
       "</style>\n",
       "<table border=\"1\" class=\"dataframe\">\n",
       "  <thead>\n",
       "    <tr style=\"text-align: right;\">\n",
       "      <th></th>\n",
       "      <th>login_time</th>\n",
       "      <th>second</th>\n",
       "    </tr>\n",
       "  </thead>\n",
       "  <tbody>\n",
       "    <tr>\n",
       "      <th>0</th>\n",
       "      <td>1970-01-01 20:13:18</td>\n",
       "      <td>72798</td>\n",
       "    </tr>\n",
       "    <tr>\n",
       "      <th>1</th>\n",
       "      <td>1970-01-01 20:16:10</td>\n",
       "      <td>72970</td>\n",
       "    </tr>\n",
       "    <tr>\n",
       "      <th>2</th>\n",
       "      <td>1970-01-01 20:16:37</td>\n",
       "      <td>72997</td>\n",
       "    </tr>\n",
       "    <tr>\n",
       "      <th>3</th>\n",
       "      <td>1970-01-01 20:16:36</td>\n",
       "      <td>72996</td>\n",
       "    </tr>\n",
       "    <tr>\n",
       "      <th>4</th>\n",
       "      <td>1970-01-01 20:26:21</td>\n",
       "      <td>73581</td>\n",
       "    </tr>\n",
       "  </tbody>\n",
       "</table>\n",
       "</div>"
      ],
      "text/plain": [
       "           login_time  second\n",
       "0 1970-01-01 20:13:18   72798\n",
       "1 1970-01-01 20:16:10   72970\n",
       "2 1970-01-01 20:16:37   72997\n",
       "3 1970-01-01 20:16:36   72996\n",
       "4 1970-01-01 20:26:21   73581"
      ]
     },
     "execution_count": 25,
     "metadata": {},
     "output_type": "execute_result"
    }
   ],
   "source": [
    "#{\"login_time\": [\"1970-01-01 20:13:18\", \"1970-01-01 20:16:10\",\n",
    "json_df = pd.read_json(directory+\"logins.json\")\n",
    "json_df['second'] = json_df.apply(lambda x: (x['login_time'].hour*3600 \\\n",
    "                       + x['login_time'].minute*60 + x['login_time'].second)\\\n",
    "                       , axis=1)\n",
    "#*3600 + json_df['login_time'].minutes*60+json_df['login_time'].seconds)//(15*60)\n",
    "json_df.head()"
   ]
  },
  {
   "cell_type": "code",
   "execution_count": 29,
   "metadata": {},
   "outputs": [
    {
     "data": {
      "text/plain": [
       "<matplotlib.axes._subplots.AxesSubplot at 0x7f4c4e9d3080>"
      ]
     },
     "execution_count": 29,
     "metadata": {},
     "output_type": "execute_result"
    },
    {
     "data": {
      "image/png": "[encoded data removed]",
      "text/plain": [
       "<Figure size 432x288 with 1 Axes>"
      ]
     },
     "metadata": {
      "needs_background": "light"
     },
     "output_type": "display_data"
    }
   ],
   "source": [
    "json_df['second'].plot.hist(bins=96)"
   ]
  },
  {
   "cell_type": "markdown",
   "metadata": {},
   "source": [
    "<h1>Part 2 ‑ Experiment and metrics design</h1>\n",
    "<p>The neighboring cities of Gotham and Metropolis have complementary circadian rhythms: on\n",
    "weekdays, Ultimate Gotham is most active at night, and Ultimate Metropolis is most active\n",
    "during the day. On weekends, there is reasonable activity in both cities.\n",
    "However, a toll bridge, with a two­way toll, between the two cities causes driver partners to tend\n",
    "to be exclusive to each city. The Ultimate managers of city operations for the two cities have\n",
    "proposed an experiment to encourage driver partners to be available in both cities, by\n",
    "reimbursing all toll costs.<br>\n",
    "1. What would you choose as the key measure of success of this experiment in\n",
    "encouraging driver partners to serve both cities, and why would you choose this metric?<br>\n",
    "2. Describe a practical experiment you would design to compare the effectiveness of the\n",
    "proposed change in relation to the key measure of success. Please provide details on:<br>\n",
    "&nbsp;&nbsp;a. how you will implement the experiment<br>\n",
    "&nbsp;&nbsp;b. what statistical test(s) you will conduct to verify the significance of the\n",
    "observation<br>\n",
    "&nbsp;&nbsp;c. how you would interpret the results and provide recommendations to the city\n",
    "operations team along with any caveats.<br>\n",
    "</p>"
   ]
  },
  {
   "cell_type": "markdown",
   "metadata": {},
   "source": [
    "<p>1. The key metric to measure would be the reimbursed toll costs. For a one metric study this would be adequate however other additional measurements exist and should be considered. The Singapore Taxi study as detailed in <a href=\"https://semanticommunity.info/Data_Science/Data_Science_for_Tackling_the_Challenges_of_Big_Data#Story\">this study</a> shows how additional data can give a more detailed understanding of taxi movement. Putting GPS sensors and recording receipts in a few taxis gives a deeper understanding of traffic, taxi usage, and the ability to model the data. In general reimbursed tolls would be the best metric, if you are not allowed to incorporate receipts. If you can incorporate receipts GPS data is more useful. In this case the key measure of success will be when a taxi crosses between cities while not driving for a fare, and then proceeds to take a parameter N innercity fares. This would filter out traveling home, intercity travel, and personal travel.<br>\n",
    "2. In general there are many ways to perform this experiment using the given resources as long as the results of the experiment are communicated accurately, as to not imply false conclusions to a descision making body. In the design of this experiment, modifications to an ideal experiemnt will be presented as to make the experiment possible.<br>\n",
    "To implement the study I would include GPS monitors in a few taxis and combine their data with taxi reciepts. The drives given reimbursments would be randomly assigned in the monitored taxis. As time increases more reimbursments should be added to include the effect of an increase in supply. The period of the experiment would need to include weekdays, weekends, and holidays. If seasonal changes in population occur, such as in vacation, agricultural or industrial cities, data would also be needed for these periods.<br>\n",
    "If a sweeping policy will be implemented, data needs to be taken for both before and after the toll reimbursment program. As certain situations, like Christmas, occur only once a year, a two year period is the minimal period needed to model the data. If the reimbursments can be randomly assigned, the time required maybe halved. A smaller period of a couple weeks maybe used as long as different measurement periods are in the same season and encompass the same number of weekdays, weekends, and holidays. A smaller time period would estimate the effectiveness of the program and a longer time period would allow for modeling the effect of the program.<br>\n",
    "The statistical signifigance of the difference in the models could be estimated using the bootstrap method. The usage of the program will be a binary measurement and the ratio of usage may be measured for groups of interest. The experiment can also measure additional differences in parameters such as traffic, moving violations, and accidents based on the distribution of reimbursments.<br>\n",
    "If the experiment measures data during different traffic needs, and with varying levels randomly distributed reimbursed drivers several recomendations can be made. With GPS data you can adjust the number of randomly distributed reimbursed drivers to maximize the area covered by taxis. Ideally you would want an empty taxi on every street. You can also make a recomendation to maximize the number of drivers crossing between cities. Additionally you can minimize travel time for comuters. Less drivers would aleviate traffic and may reduce the tavel time for comuters. As accidents and traffic also increase the cost to a city the expense of the city may also minimized with this program. Recommendations should be presented to focus on the needs of a decision making team. </p>"
   ]
  },
  {
   "cell_type": "markdown",
   "metadata": {},
   "source": [
    "<h1>Part 3 ‑ Predictive modeling</h1>\n",
    "<p>Ultimate is interested in predicting rider retention. To help explore this question, we have\n",
    "provided a sample dataset of a cohort of users who signed up for an Ultimate account in\n",
    "January 2014. The data was pulled several months later; we consider a user retained if they\n",
    "were “active” (i.e. took a trip) in the preceding 30 days.<br><br>\n",
    "We would like you to use this data set to help understand what factors are the best predictors\n",
    "for retention, and offer suggestions to operationalize those insights to help Ultimate.\n",
    "The data is in the attached file ultimate_data_challenge.json. See below for a detailed\n",
    "description of the dataset. Please include any code you wrote for the analysis and delete the\n",
    "dataset when you have finished with the challenge.<br><br>\n",
    "<b>1. Perform any cleaning, exploratory analysis, and/or visualizations to use the provided\n",
    "data for this analysis (a few sentences/plots describing your approach will suffice). What\n",
    "    fraction of the observed users were retained?</b><br>\n",
    "I kept all of the data. For the missing values I filled in the average values.<br><br>\n",
    "<b>2. Build a predictive model to help Ultimate determine whether or not a user will be active\n",
    "in their 6th month on the system. Discuss why you chose your approach, what\n",
    "    alternatives you considered, and any concerns you have. How valid is your model?</b>\n",
    "Include any key indicators of model performance.<br>\n",
    "I used logistic regression to fit the data. I used logistic regression because it fit the data better than a random forrest and the multinomial. The model had an accuracy score of 0.72, so it is working but not great.<br><br>\n",
    "<b>3. Briefly discuss how Ultimate might leverage the insights gained from the model to\n",
    "    improve its long­term rider retention (again, a few sentences will suffice).</b><br>\n",
    "I discovered the measurements that effected retention the most was the number of trips taken in the first month and the if they took an Ultimate Black in their first 30 days.<br><br>\n",
    "Data description<br><br>\n",
    "● city: city this user signed up in<br>\n",
    "● phone: primary device for this user<br>\n",
    "● signup_date: date of account registration; in the form ‘YYYYMMDD’<br>\n",
    "● last_trip_date: the last time this user completed a trip; in the form ‘YYYYMMDD’<br>\n",
    "● avg_dist: the average distance in miles per trip taken in the first 30 days after signup<br>\n",
    "● avg_rating_by_driver: the rider’s average rating over all of their trips<br>\n",
    "● avg_rating_of_driver: the rider’s average rating of their drivers over all of their trips<br>\n",
    "● surge_pct: the percent of trips taken with surge multiplier > 1<br>\n",
    "● avg_surge: The average surge multiplier over all of this user’s trips<br>\n",
    "● trips_in_first_30_days: the number of trips this user took in the first 30 days after\n",
    "signing up<br>\n",
    "● ultimate_black_user: TRUE if the user took an Ultimate Black in their first 30 days;\n",
    "FALSE otherwise\n",
    "● weekday_pct: the percent of the user’s trips occurring during a weekday</p>"
   ]
  },
  {
   "cell_type": "code",
   "execution_count": 11,
   "metadata": {
    "scrolled": true
   },
   "outputs": [
    {
     "name": "stderr",
     "output_type": "stream",
     "text": [
      "IOPub data rate exceeded.\n",
      "The notebook server will temporarily stop sending output\n",
      "to the client in order to avoid crashing it.\n",
      "To change this limit, set the config variable\n",
      "`--NotebookApp.iopub_data_rate_limit`.\n",
      "\n",
      "Current values:\n",
      "NotebookApp.iopub_data_rate_limit=1000000.0 (bytes/sec)\n",
      "NotebookApp.rate_limit_window=3.0 (secs)\n",
      "\n"
     ]
    }
   ],
   "source": [
    "with open(directory+'ultimate_data_challenge.json') as f:\n",
    "   data = json.load(f)\n",
    "print(data)\n",
    "\n",
    "#ultimate_df = pd.read_json(directory+'ultimate_data_challenge.json')"
   ]
  },
  {
   "cell_type": "code",
   "execution_count": 160,
   "metadata": {},
   "outputs": [
    {
     "name": "stdout",
     "output_type": "stream",
     "text": [
      "import pandas as pd\r",
      "\r\n",
      "directory = '/mnt/c/users/我的电脑/desktop/springboard/ultimate_challenge/'\r",
      "\r\n",
      "\r",
      "\r\n",
      "file = open(directory+'ultimate_data_challenge.json','r')\r",
      "\r\n",
      "data_line = file.read().replace('NaN','-1').replace('}, {','},\\r\\n {')\\\r",
      "\r\n",
      "            .replace('null','\"None\"')\r",
      "\r\n",
      "file.close()\r",
      "\r\n",
      "\r",
      "\r\n",
      "file = open(directory+'udc.json','+w')\r",
      "\r\n",
      "file.write(data_line)\r",
      "\r\n",
      "file.close()\r",
      "\r\n",
      "\r",
      "\r\n",
      "pd.read_json(data_line)"
     ]
    }
   ],
   "source": [
    "!cat /mnt/c/users/我的电脑/desktop/springboard/ultimate_challenge/fixer.py"
   ]
  },
  {
   "cell_type": "code",
   "execution_count": 209,
   "metadata": {
    "scrolled": true
   },
   "outputs": [
    {
     "data": {
      "text/html": [
       "<div>\n",
       "<style scoped>\n",
       "    .dataframe tbody tr th:only-of-type {\n",
       "        vertical-align: middle;\n",
       "    }\n",
       "\n",
       "    .dataframe tbody tr th {\n",
       "        vertical-align: top;\n",
       "    }\n",
       "\n",
       "    .dataframe thead th {\n",
       "        text-align: right;\n",
       "    }\n",
       "</style>\n",
       "<table border=\"1\" class=\"dataframe\">\n",
       "  <thead>\n",
       "    <tr style=\"text-align: right;\">\n",
       "      <th></th>\n",
       "      <th>avg_dist</th>\n",
       "      <th>avg_rating_by_driver</th>\n",
       "      <th>avg_rating_of_driver</th>\n",
       "      <th>avg_surge</th>\n",
       "      <th>city</th>\n",
       "      <th>last_trip_date</th>\n",
       "      <th>phone</th>\n",
       "      <th>signup_date</th>\n",
       "      <th>surge_pct</th>\n",
       "      <th>trips_in_first_30_days</th>\n",
       "      <th>ultimate_black_user</th>\n",
       "      <th>weekday_pct</th>\n",
       "    </tr>\n",
       "  </thead>\n",
       "  <tbody>\n",
       "    <tr>\n",
       "      <th>0</th>\n",
       "      <td>3.67</td>\n",
       "      <td>5.0</td>\n",
       "      <td>4.7</td>\n",
       "      <td>1.10</td>\n",
       "      <td>King's Landing</td>\n",
       "      <td>2014-06-17</td>\n",
       "      <td>iPhone</td>\n",
       "      <td>2014-01-25</td>\n",
       "      <td>15.4</td>\n",
       "      <td>4</td>\n",
       "      <td>True</td>\n",
       "      <td>46.2</td>\n",
       "    </tr>\n",
       "    <tr>\n",
       "      <th>1</th>\n",
       "      <td>8.26</td>\n",
       "      <td>5.0</td>\n",
       "      <td>5.0</td>\n",
       "      <td>1.00</td>\n",
       "      <td>Astapor</td>\n",
       "      <td>2014-05-05</td>\n",
       "      <td>Android</td>\n",
       "      <td>2014-01-29</td>\n",
       "      <td>0.0</td>\n",
       "      <td>0</td>\n",
       "      <td>False</td>\n",
       "      <td>50.0</td>\n",
       "    </tr>\n",
       "    <tr>\n",
       "      <th>2</th>\n",
       "      <td>0.77</td>\n",
       "      <td>5.0</td>\n",
       "      <td>4.3</td>\n",
       "      <td>1.00</td>\n",
       "      <td>Astapor</td>\n",
       "      <td>2014-01-07</td>\n",
       "      <td>iPhone</td>\n",
       "      <td>2014-01-06</td>\n",
       "      <td>0.0</td>\n",
       "      <td>3</td>\n",
       "      <td>False</td>\n",
       "      <td>100.0</td>\n",
       "    </tr>\n",
       "    <tr>\n",
       "      <th>3</th>\n",
       "      <td>2.36</td>\n",
       "      <td>4.9</td>\n",
       "      <td>4.6</td>\n",
       "      <td>1.14</td>\n",
       "      <td>King's Landing</td>\n",
       "      <td>2014-06-29</td>\n",
       "      <td>iPhone</td>\n",
       "      <td>2014-01-10</td>\n",
       "      <td>20.0</td>\n",
       "      <td>9</td>\n",
       "      <td>True</td>\n",
       "      <td>80.0</td>\n",
       "    </tr>\n",
       "    <tr>\n",
       "      <th>4</th>\n",
       "      <td>3.13</td>\n",
       "      <td>4.9</td>\n",
       "      <td>4.4</td>\n",
       "      <td>1.19</td>\n",
       "      <td>Winterfell</td>\n",
       "      <td>2014-03-15</td>\n",
       "      <td>Android</td>\n",
       "      <td>2014-01-27</td>\n",
       "      <td>11.8</td>\n",
       "      <td>14</td>\n",
       "      <td>False</td>\n",
       "      <td>82.4</td>\n",
       "    </tr>\n",
       "  </tbody>\n",
       "</table>\n",
       "</div>"
      ],
      "text/plain": [
       "   avg_dist  avg_rating_by_driver  avg_rating_of_driver  avg_surge  \\\n",
       "0      3.67                   5.0                   4.7       1.10   \n",
       "1      8.26                   5.0                   5.0       1.00   \n",
       "2      0.77                   5.0                   4.3       1.00   \n",
       "3      2.36                   4.9                   4.6       1.14   \n",
       "4      3.13                   4.9                   4.4       1.19   \n",
       "\n",
       "             city last_trip_date    phone signup_date  surge_pct  \\\n",
       "0  King's Landing     2014-06-17   iPhone  2014-01-25       15.4   \n",
       "1         Astapor     2014-05-05  Android  2014-01-29        0.0   \n",
       "2         Astapor     2014-01-07   iPhone  2014-01-06        0.0   \n",
       "3  King's Landing     2014-06-29   iPhone  2014-01-10       20.0   \n",
       "4      Winterfell     2014-03-15  Android  2014-01-27       11.8   \n",
       "\n",
       "   trips_in_first_30_days  ultimate_black_user  weekday_pct  \n",
       "0                       4                 True         46.2  \n",
       "1                       0                False         50.0  \n",
       "2                       3                False        100.0  \n",
       "3                       9                 True         80.0  \n",
       "4                      14                False         82.4  "
      ]
     },
     "execution_count": 209,
     "metadata": {},
     "output_type": "execute_result"
    }
   ],
   "source": [
    "data = pd.read_json(directory+'udc.json')\n",
    "data.head()"
   ]
  },
  {
   "cell_type": "code",
   "execution_count": 210,
   "metadata": {},
   "outputs": [],
   "source": [
    "data['last_trip_date'] = pd.to_datetime(data['last_trip_date'],format = '%Y-%m-%d')\n",
    "data['signup_date'] = pd.to_datetime(data['signup_date'],format = '%Y-%m-%d')"
   ]
  },
  {
   "cell_type": "code",
   "execution_count": 211,
   "metadata": {},
   "outputs": [
    {
     "data": {
      "text/plain": [
       "Timestamp('2014-07-01 00:00:00')"
      ]
     },
     "execution_count": 211,
     "metadata": {},
     "output_type": "execute_result"
    }
   ],
   "source": [
    "max_date = data['last_trip_date'].max()\n",
    "max_date"
   ]
  },
  {
   "cell_type": "code",
   "execution_count": 212,
   "metadata": {},
   "outputs": [
    {
     "data": {
      "text/plain": [
       "Timestamp('2014-01-01 00:00:00')"
      ]
     },
     "execution_count": 212,
     "metadata": {},
     "output_type": "execute_result"
    }
   ],
   "source": [
    "min_date = data['signup_date'].min()\n",
    "min_date"
   ]
  },
  {
   "cell_type": "code",
   "execution_count": 213,
   "metadata": {},
   "outputs": [],
   "source": [
    "data['signup_day']=data.apply((lambda row: (row['signup_date']-min_date).days),axis=1)"
   ]
  },
  {
   "cell_type": "code",
   "execution_count": 214,
   "metadata": {},
   "outputs": [],
   "source": [
    "data['active_user'] = data.apply((lambda row: row['last_trip_date'].month==6), axis=1)"
   ]
  },
  {
   "cell_type": "code",
   "execution_count": 215,
   "metadata": {},
   "outputs": [
    {
     "data": {
      "text/plain": [
       "array([\"King's Landing\", 'Astapor', 'Winterfell'], dtype=object)"
      ]
     },
     "execution_count": 215,
     "metadata": {},
     "output_type": "execute_result"
    }
   ],
   "source": [
    "data['city'].unique()"
   ]
  },
  {
   "cell_type": "code",
   "execution_count": 216,
   "metadata": {},
   "outputs": [
    {
     "name": "stdout",
     "output_type": "stream",
     "text": [
      "0.6080947680157947\n",
      "0.2497278335550986\n",
      "0.341403839561193\n"
     ]
    }
   ],
   "source": [
    "data_k=data[data['city']==\"King's Landing\"]\n",
    "print(sum(data_k['active_user'])/len(data_k['active_user']))\n",
    "data_a=data[data['city']==\"Astapor\"]\n",
    "print(sum(data_a['active_user'])/len(data_a['active_user']))\n",
    "data_w=data[data['city']==\"Winterfell\"]\n",
    "print(sum(data_w['active_user'])/len(data_w['active_user']))"
   ]
  },
  {
   "cell_type": "code",
   "execution_count": 217,
   "metadata": {},
   "outputs": [
    {
     "data": {
      "text/html": [
       "<div>\n",
       "<style scoped>\n",
       "    .dataframe tbody tr th:only-of-type {\n",
       "        vertical-align: middle;\n",
       "    }\n",
       "\n",
       "    .dataframe tbody tr th {\n",
       "        vertical-align: top;\n",
       "    }\n",
       "\n",
       "    .dataframe thead th {\n",
       "        text-align: right;\n",
       "    }\n",
       "</style>\n",
       "<table border=\"1\" class=\"dataframe\">\n",
       "  <thead>\n",
       "    <tr style=\"text-align: right;\">\n",
       "      <th></th>\n",
       "      <th>avg_dist</th>\n",
       "      <th>avg_rating_by_driver</th>\n",
       "      <th>avg_rating_of_driver</th>\n",
       "      <th>avg_surge</th>\n",
       "      <th>city</th>\n",
       "      <th>last_trip_date</th>\n",
       "      <th>phone</th>\n",
       "      <th>signup_date</th>\n",
       "      <th>surge_pct</th>\n",
       "      <th>trips_in_first_30_days</th>\n",
       "      <th>ultimate_black_user</th>\n",
       "      <th>weekday_pct</th>\n",
       "      <th>signup_day</th>\n",
       "      <th>active_user</th>\n",
       "    </tr>\n",
       "  </thead>\n",
       "  <tbody>\n",
       "    <tr>\n",
       "      <th>0</th>\n",
       "      <td>3.67</td>\n",
       "      <td>5.0</td>\n",
       "      <td>4.7</td>\n",
       "      <td>1.10</td>\n",
       "      <td>2</td>\n",
       "      <td>2014-06-17</td>\n",
       "      <td>iPhone</td>\n",
       "      <td>2014-01-25</td>\n",
       "      <td>15.4</td>\n",
       "      <td>4</td>\n",
       "      <td>True</td>\n",
       "      <td>46.2</td>\n",
       "      <td>24</td>\n",
       "      <td>True</td>\n",
       "    </tr>\n",
       "    <tr>\n",
       "      <th>1</th>\n",
       "      <td>8.26</td>\n",
       "      <td>5.0</td>\n",
       "      <td>5.0</td>\n",
       "      <td>1.00</td>\n",
       "      <td>0</td>\n",
       "      <td>2014-05-05</td>\n",
       "      <td>Android</td>\n",
       "      <td>2014-01-29</td>\n",
       "      <td>0.0</td>\n",
       "      <td>0</td>\n",
       "      <td>False</td>\n",
       "      <td>50.0</td>\n",
       "      <td>28</td>\n",
       "      <td>False</td>\n",
       "    </tr>\n",
       "    <tr>\n",
       "      <th>2</th>\n",
       "      <td>0.77</td>\n",
       "      <td>5.0</td>\n",
       "      <td>4.3</td>\n",
       "      <td>1.00</td>\n",
       "      <td>0</td>\n",
       "      <td>2014-01-07</td>\n",
       "      <td>iPhone</td>\n",
       "      <td>2014-01-06</td>\n",
       "      <td>0.0</td>\n",
       "      <td>3</td>\n",
       "      <td>False</td>\n",
       "      <td>100.0</td>\n",
       "      <td>5</td>\n",
       "      <td>False</td>\n",
       "    </tr>\n",
       "    <tr>\n",
       "      <th>3</th>\n",
       "      <td>2.36</td>\n",
       "      <td>4.9</td>\n",
       "      <td>4.6</td>\n",
       "      <td>1.14</td>\n",
       "      <td>2</td>\n",
       "      <td>2014-06-29</td>\n",
       "      <td>iPhone</td>\n",
       "      <td>2014-01-10</td>\n",
       "      <td>20.0</td>\n",
       "      <td>9</td>\n",
       "      <td>True</td>\n",
       "      <td>80.0</td>\n",
       "      <td>9</td>\n",
       "      <td>True</td>\n",
       "    </tr>\n",
       "    <tr>\n",
       "      <th>4</th>\n",
       "      <td>3.13</td>\n",
       "      <td>4.9</td>\n",
       "      <td>4.4</td>\n",
       "      <td>1.19</td>\n",
       "      <td>1</td>\n",
       "      <td>2014-03-15</td>\n",
       "      <td>Android</td>\n",
       "      <td>2014-01-27</td>\n",
       "      <td>11.8</td>\n",
       "      <td>14</td>\n",
       "      <td>False</td>\n",
       "      <td>82.4</td>\n",
       "      <td>26</td>\n",
       "      <td>False</td>\n",
       "    </tr>\n",
       "  </tbody>\n",
       "</table>\n",
       "</div>"
      ],
      "text/plain": [
       "   avg_dist  avg_rating_by_driver  avg_rating_of_driver  avg_surge city  \\\n",
       "0      3.67                   5.0                   4.7       1.10    2   \n",
       "1      8.26                   5.0                   5.0       1.00    0   \n",
       "2      0.77                   5.0                   4.3       1.00    0   \n",
       "3      2.36                   4.9                   4.6       1.14    2   \n",
       "4      3.13                   4.9                   4.4       1.19    1   \n",
       "\n",
       "  last_trip_date    phone signup_date  surge_pct  trips_in_first_30_days  \\\n",
       "0     2014-06-17   iPhone  2014-01-25       15.4                       4   \n",
       "1     2014-05-05  Android  2014-01-29        0.0                       0   \n",
       "2     2014-01-07   iPhone  2014-01-06        0.0                       3   \n",
       "3     2014-06-29   iPhone  2014-01-10       20.0                       9   \n",
       "4     2014-03-15  Android  2014-01-27       11.8                      14   \n",
       "\n",
       "   ultimate_black_user  weekday_pct  signup_day  active_user  \n",
       "0                 True         46.2          24         True  \n",
       "1                False         50.0          28        False  \n",
       "2                False        100.0           5        False  \n",
       "3                 True         80.0           9         True  \n",
       "4                False         82.4          26        False  "
      ]
     },
     "execution_count": 217,
     "metadata": {},
     "output_type": "execute_result"
    }
   ],
   "source": [
    "data.city = data.city.replace({\"King's Landing\":\"2\", \"Astapor\":\"0\", \"Winterfell\":\"1\"})\n",
    "data.astype({'city': 'int32'}).dtypes\n",
    "data.head()"
   ]
  },
  {
   "cell_type": "code",
   "execution_count": 218,
   "metadata": {},
   "outputs": [
    {
     "data": {
      "text/plain": [
       "array(['iPhone', 'Android', 'None'], dtype=object)"
      ]
     },
     "execution_count": 218,
     "metadata": {},
     "output_type": "execute_result"
    }
   ],
   "source": [
    "data['phone'].unique()"
   ]
  },
  {
   "cell_type": "code",
   "execution_count": 219,
   "metadata": {},
   "outputs": [
    {
     "name": "stdout",
     "output_type": "stream",
     "text": [
      "0.4357180035856804\n",
      "0.20356810011982426\n",
      "0.3282828282828283\n"
     ]
    }
   ],
   "source": [
    "data_i=data[data['phone']==\"iPhone\"]\n",
    "print(sum(data_i['active_user'])/len(data_i['active_user']))\n",
    "data_a=data[data['phone']==\"Android\"]\n",
    "print(sum(data_a['active_user'])/len(data_a['active_user']))\n",
    "data_n=data[data['phone']==\"None\"]\n",
    "print(sum(data_n['active_user'])/len(data_n['active_user']))"
   ]
  },
  {
   "cell_type": "code",
   "execution_count": 220,
   "metadata": {},
   "outputs": [
    {
     "data": {
      "text/html": [
       "<div>\n",
       "<style scoped>\n",
       "    .dataframe tbody tr th:only-of-type {\n",
       "        vertical-align: middle;\n",
       "    }\n",
       "\n",
       "    .dataframe tbody tr th {\n",
       "        vertical-align: top;\n",
       "    }\n",
       "\n",
       "    .dataframe thead th {\n",
       "        text-align: right;\n",
       "    }\n",
       "</style>\n",
       "<table border=\"1\" class=\"dataframe\">\n",
       "  <thead>\n",
       "    <tr style=\"text-align: right;\">\n",
       "      <th></th>\n",
       "      <th>avg_dist</th>\n",
       "      <th>avg_rating_by_driver</th>\n",
       "      <th>avg_rating_of_driver</th>\n",
       "      <th>avg_surge</th>\n",
       "      <th>city</th>\n",
       "      <th>last_trip_date</th>\n",
       "      <th>phone</th>\n",
       "      <th>signup_date</th>\n",
       "      <th>surge_pct</th>\n",
       "      <th>trips_in_first_30_days</th>\n",
       "      <th>ultimate_black_user</th>\n",
       "      <th>weekday_pct</th>\n",
       "      <th>signup_day</th>\n",
       "      <th>active_user</th>\n",
       "    </tr>\n",
       "  </thead>\n",
       "  <tbody>\n",
       "    <tr>\n",
       "      <th>0</th>\n",
       "      <td>3.67</td>\n",
       "      <td>5.0</td>\n",
       "      <td>4.7</td>\n",
       "      <td>1.10</td>\n",
       "      <td>2</td>\n",
       "      <td>2014-06-17</td>\n",
       "      <td>2</td>\n",
       "      <td>2014-01-25</td>\n",
       "      <td>15.4</td>\n",
       "      <td>4</td>\n",
       "      <td>True</td>\n",
       "      <td>46.2</td>\n",
       "      <td>24</td>\n",
       "      <td>True</td>\n",
       "    </tr>\n",
       "    <tr>\n",
       "      <th>1</th>\n",
       "      <td>8.26</td>\n",
       "      <td>5.0</td>\n",
       "      <td>5.0</td>\n",
       "      <td>1.00</td>\n",
       "      <td>0</td>\n",
       "      <td>2014-05-05</td>\n",
       "      <td>0</td>\n",
       "      <td>2014-01-29</td>\n",
       "      <td>0.0</td>\n",
       "      <td>0</td>\n",
       "      <td>False</td>\n",
       "      <td>50.0</td>\n",
       "      <td>28</td>\n",
       "      <td>False</td>\n",
       "    </tr>\n",
       "    <tr>\n",
       "      <th>2</th>\n",
       "      <td>0.77</td>\n",
       "      <td>5.0</td>\n",
       "      <td>4.3</td>\n",
       "      <td>1.00</td>\n",
       "      <td>0</td>\n",
       "      <td>2014-01-07</td>\n",
       "      <td>2</td>\n",
       "      <td>2014-01-06</td>\n",
       "      <td>0.0</td>\n",
       "      <td>3</td>\n",
       "      <td>False</td>\n",
       "      <td>100.0</td>\n",
       "      <td>5</td>\n",
       "      <td>False</td>\n",
       "    </tr>\n",
       "    <tr>\n",
       "      <th>3</th>\n",
       "      <td>2.36</td>\n",
       "      <td>4.9</td>\n",
       "      <td>4.6</td>\n",
       "      <td>1.14</td>\n",
       "      <td>2</td>\n",
       "      <td>2014-06-29</td>\n",
       "      <td>2</td>\n",
       "      <td>2014-01-10</td>\n",
       "      <td>20.0</td>\n",
       "      <td>9</td>\n",
       "      <td>True</td>\n",
       "      <td>80.0</td>\n",
       "      <td>9</td>\n",
       "      <td>True</td>\n",
       "    </tr>\n",
       "    <tr>\n",
       "      <th>4</th>\n",
       "      <td>3.13</td>\n",
       "      <td>4.9</td>\n",
       "      <td>4.4</td>\n",
       "      <td>1.19</td>\n",
       "      <td>1</td>\n",
       "      <td>2014-03-15</td>\n",
       "      <td>0</td>\n",
       "      <td>2014-01-27</td>\n",
       "      <td>11.8</td>\n",
       "      <td>14</td>\n",
       "      <td>False</td>\n",
       "      <td>82.4</td>\n",
       "      <td>26</td>\n",
       "      <td>False</td>\n",
       "    </tr>\n",
       "  </tbody>\n",
       "</table>\n",
       "</div>"
      ],
      "text/plain": [
       "   avg_dist  avg_rating_by_driver  avg_rating_of_driver  avg_surge city  \\\n",
       "0      3.67                   5.0                   4.7       1.10    2   \n",
       "1      8.26                   5.0                   5.0       1.00    0   \n",
       "2      0.77                   5.0                   4.3       1.00    0   \n",
       "3      2.36                   4.9                   4.6       1.14    2   \n",
       "4      3.13                   4.9                   4.4       1.19    1   \n",
       "\n",
       "  last_trip_date phone signup_date  surge_pct  trips_in_first_30_days  \\\n",
       "0     2014-06-17     2  2014-01-25       15.4                       4   \n",
       "1     2014-05-05     0  2014-01-29        0.0                       0   \n",
       "2     2014-01-07     2  2014-01-06        0.0                       3   \n",
       "3     2014-06-29     2  2014-01-10       20.0                       9   \n",
       "4     2014-03-15     0  2014-01-27       11.8                      14   \n",
       "\n",
       "   ultimate_black_user  weekday_pct  signup_day  active_user  \n",
       "0                 True         46.2          24         True  \n",
       "1                False         50.0          28        False  \n",
       "2                False        100.0           5        False  \n",
       "3                 True         80.0           9         True  \n",
       "4                False         82.4          26        False  "
      ]
     },
     "execution_count": 220,
     "metadata": {},
     "output_type": "execute_result"
    }
   ],
   "source": [
    "data.phone = data.phone.replace({\"iPhone\":\"2\", \"Android\":\"0\", \"None\":\"1\"})\n",
    "data.astype({'phone': 'int32'}).dtypes\n",
    "data.head()"
   ]
  },
  {
   "cell_type": "code",
   "execution_count": 221,
   "metadata": {},
   "outputs": [
    {
     "data": {
      "text/plain": [
       "avg_dist                         float64\n",
       "avg_rating_by_driver             float64\n",
       "avg_rating_of_driver             float64\n",
       "avg_surge                        float64\n",
       "city                              object\n",
       "last_trip_date            datetime64[ns]\n",
       "phone                             object\n",
       "signup_date               datetime64[ns]\n",
       "surge_pct                        float64\n",
       "trips_in_first_30_days             int64\n",
       "ultimate_black_user                int64\n",
       "weekday_pct                      float64\n",
       "signup_day                         int64\n",
       "active_user                        int32\n",
       "dtype: object"
      ]
     },
     "execution_count": 221,
     "metadata": {},
     "output_type": "execute_result"
    }
   ],
   "source": [
    "data.ultimate_black_user = data.ultimate_black_user.replace({True:1, False:0})\n",
    "data.active_user = data.active_user.replace({True:1, False:0})\n",
    "data.astype({'ultimate_black_user': 'int32'}).dtypes\n",
    "data.astype({'active_user': 'int32'}).dtypes"
   ]
  },
  {
   "cell_type": "code",
   "execution_count": 222,
   "metadata": {},
   "outputs": [],
   "source": [
    "data_by = data[data['avg_rating_by_driver']!=-1.0]\n",
    "by_rating_average = sum(data_by['avg_rating_by_driver'])/len(data_by)\n",
    "data_of = data[data['avg_rating_of_driver']!=-1.0]\n",
    "of_rating_average = sum(data_of['avg_rating_of_driver'])/len(data_of)\n",
    "data.avg_rating_by_driver = data.avg_rating_by_driver.replace({-1.0:by_rating_average})\n",
    "data.avg_rating_of_driver = data.avg_rating_of_driver.replace({-1.0:of_rating_average})\n"
   ]
  },
  {
   "cell_type": "code",
   "execution_count": 223,
   "metadata": {},
   "outputs": [
    {
     "data": {
      "text/html": [
       "<div>\n",
       "<style scoped>\n",
       "    .dataframe tbody tr th:only-of-type {\n",
       "        vertical-align: middle;\n",
       "    }\n",
       "\n",
       "    .dataframe tbody tr th {\n",
       "        vertical-align: top;\n",
       "    }\n",
       "\n",
       "    .dataframe thead th {\n",
       "        text-align: right;\n",
       "    }\n",
       "</style>\n",
       "<table border=\"1\" class=\"dataframe\">\n",
       "  <thead>\n",
       "    <tr style=\"text-align: right;\">\n",
       "      <th></th>\n",
       "      <th>avg_dist</th>\n",
       "      <th>avg_rating_by_driver</th>\n",
       "      <th>avg_rating_of_driver</th>\n",
       "      <th>avg_surge</th>\n",
       "      <th>city</th>\n",
       "      <th>phone</th>\n",
       "      <th>surge_pct</th>\n",
       "      <th>trips_in_first_30_days</th>\n",
       "      <th>ultimate_black_user</th>\n",
       "      <th>weekday_pct</th>\n",
       "      <th>signup_day</th>\n",
       "      <th>active_user</th>\n",
       "    </tr>\n",
       "  </thead>\n",
       "  <tbody>\n",
       "    <tr>\n",
       "      <th>0</th>\n",
       "      <td>3.67</td>\n",
       "      <td>5.0</td>\n",
       "      <td>4.7</td>\n",
       "      <td>1.10</td>\n",
       "      <td>2</td>\n",
       "      <td>2</td>\n",
       "      <td>15.4</td>\n",
       "      <td>4</td>\n",
       "      <td>1</td>\n",
       "      <td>46.2</td>\n",
       "      <td>24</td>\n",
       "      <td>1</td>\n",
       "    </tr>\n",
       "    <tr>\n",
       "      <th>1</th>\n",
       "      <td>8.26</td>\n",
       "      <td>5.0</td>\n",
       "      <td>5.0</td>\n",
       "      <td>1.00</td>\n",
       "      <td>0</td>\n",
       "      <td>0</td>\n",
       "      <td>0.0</td>\n",
       "      <td>0</td>\n",
       "      <td>0</td>\n",
       "      <td>50.0</td>\n",
       "      <td>28</td>\n",
       "      <td>0</td>\n",
       "    </tr>\n",
       "    <tr>\n",
       "      <th>2</th>\n",
       "      <td>0.77</td>\n",
       "      <td>5.0</td>\n",
       "      <td>4.3</td>\n",
       "      <td>1.00</td>\n",
       "      <td>0</td>\n",
       "      <td>2</td>\n",
       "      <td>0.0</td>\n",
       "      <td>3</td>\n",
       "      <td>0</td>\n",
       "      <td>100.0</td>\n",
       "      <td>5</td>\n",
       "      <td>0</td>\n",
       "    </tr>\n",
       "    <tr>\n",
       "      <th>3</th>\n",
       "      <td>2.36</td>\n",
       "      <td>4.9</td>\n",
       "      <td>4.6</td>\n",
       "      <td>1.14</td>\n",
       "      <td>2</td>\n",
       "      <td>2</td>\n",
       "      <td>20.0</td>\n",
       "      <td>9</td>\n",
       "      <td>1</td>\n",
       "      <td>80.0</td>\n",
       "      <td>9</td>\n",
       "      <td>1</td>\n",
       "    </tr>\n",
       "    <tr>\n",
       "      <th>4</th>\n",
       "      <td>3.13</td>\n",
       "      <td>4.9</td>\n",
       "      <td>4.4</td>\n",
       "      <td>1.19</td>\n",
       "      <td>1</td>\n",
       "      <td>0</td>\n",
       "      <td>11.8</td>\n",
       "      <td>14</td>\n",
       "      <td>0</td>\n",
       "      <td>82.4</td>\n",
       "      <td>26</td>\n",
       "      <td>0</td>\n",
       "    </tr>\n",
       "  </tbody>\n",
       "</table>\n",
       "</div>"
      ],
      "text/plain": [
       "   avg_dist  avg_rating_by_driver  avg_rating_of_driver  avg_surge city phone  \\\n",
       "0      3.67                   5.0                   4.7       1.10    2     2   \n",
       "1      8.26                   5.0                   5.0       1.00    0     0   \n",
       "2      0.77                   5.0                   4.3       1.00    0     2   \n",
       "3      2.36                   4.9                   4.6       1.14    2     2   \n",
       "4      3.13                   4.9                   4.4       1.19    1     0   \n",
       "\n",
       "   surge_pct  trips_in_first_30_days  ultimate_black_user  weekday_pct  \\\n",
       "0       15.4                       4                    1         46.2   \n",
       "1        0.0                       0                    0         50.0   \n",
       "2        0.0                       3                    0        100.0   \n",
       "3       20.0                       9                    1         80.0   \n",
       "4       11.8                      14                    0         82.4   \n",
       "\n",
       "   signup_day  active_user  \n",
       "0          24            1  \n",
       "1          28            0  \n",
       "2           5            0  \n",
       "3           9            1  \n",
       "4          26            0  "
      ]
     },
     "execution_count": 223,
     "metadata": {},
     "output_type": "execute_result"
    }
   ],
   "source": [
    "data = data.drop(['last_trip_date', 'signup_date'],axis=1)\n",
    "data.head()"
   ]
  },
  {
   "cell_type": "code",
   "execution_count": 242,
   "metadata": {},
   "outputs": [
    {
     "data": {
      "text/plain": [
       "avg_dist                 -0.086937\n",
       "avg_rating_by_driver     -0.025986\n",
       "avg_rating_of_driver     -0.012135\n",
       "avg_surge                -0.003630\n",
       "surge_pct                 0.010323\n",
       "trips_in_first_30_days    0.193932\n",
       "ultimate_black_user       0.200222\n",
       "weekday_pct               0.003674\n",
       "signup_day               -0.017954\n",
       "active_user               1.000000\n",
       "Name: active_user, dtype: float64"
      ]
     },
     "execution_count": 242,
     "metadata": {},
     "output_type": "execute_result"
    }
   ],
   "source": [
    "corr = data.corr()\n",
    "corr['active_user']"
   ]
  },
  {
   "cell_type": "code",
   "execution_count": 252,
   "metadata": {},
   "outputs": [
    {
     "name": "stdout",
     "output_type": "stream",
     "text": [
      "0.7148\n"
     ]
    },
    {
     "name": "stderr",
     "output_type": "stream",
     "text": [
      "/home/bentrey/myProjectDir/myProjectEnv/lib/python3.6/site-packages/sklearn/linear_model/logistic.py:947: ConvergenceWarning: lbfgs failed to converge. Increase the number of iterations.\n",
      "  \"of iterations.\", ConvergenceWarning)\n"
     ]
    }
   ],
   "source": [
    "# Split the data into a training and test set.\n",
    "x_train, x_test, y_train, y_test = train_test_split(data[['avg_dist','avg_rating_by_driver','avg_rating_of_driver','avg_surge',\n",
    "                                                   'city','phone','surge_pct','trips_in_first_30_days','ultimate_black_user',\n",
    "                                                   'weekday_pct','signup_day']].values, \n",
    "                                              (data.active_user == 1).values,test_size=0.2,random_state=5)\n",
    "\n",
    "\n",
    "clf = LogisticRegression(solver='lbfgs')\n",
    "# Fit the model on the trainng data.\n",
    "clf.fit(x_train, y_train)\n",
    "# Print the accuracy from the testing data.\n",
    "print(accuracy_score(clf.predict(Xtestlr), ytestlr))"
   ]
  },
  {
   "cell_type": "code",
   "execution_count": 253,
   "metadata": {},
   "outputs": [
    {
     "name": "stdout",
     "output_type": "stream",
     "text": [
      "0.2869940871753446\n"
     ]
    }
   ],
   "source": [
    "clf = RandomForestRegressor(n_estimators=100)\n",
    "clf.fit(x_train, y_train)\n",
    "temp_score = clf.score(x_test, y_test)\n",
    "print(temp_score)"
   ]
  },
  {
   "cell_type": "code",
   "execution_count": 254,
   "metadata": {},
   "outputs": [
    {
     "name": "stdout",
     "output_type": "stream",
     "text": [
      "0.6478\n"
     ]
    }
   ],
   "source": [
    "clf = MultinomialNB()\n",
    "clf.fit(x_train, y_train)\n",
    "temp_score = clf.score(x_test, y_test)\n",
    "print(temp_score)"
   ]
  },
  {
   "cell_type": "code",
   "execution_count": 255,
   "metadata": {},
   "outputs": [
    {
     "name": "stdout",
     "output_type": "stream",
     "text": [
      "C: 0.001  score: 0.7146\n",
      "C: 0.1  score: 0.7153\n",
      "C: 1  score: 0.7156\n",
      "C: 10  score: 0.7152\n",
      "C: 100  score: 0.7152\n"
     ]
    }
   ],
   "source": [
    "#the grid of parameters to search over\n",
    "Cs = [0.001, 0.1, 1, 10, 100]\n",
    "\n",
    "# your turn\n",
    "for c in Cs:\n",
    "    clf = LogisticRegression(C=c, solver='lbfgs',max_iter=3000)\n",
    "    clf.fit(x_train, y_train)\n",
    "    accuracy = accuracy_score(clf.predict(x_test), y_test)\n",
    "    print(\"C:\",c,\" score:\",accuracy)"
   ]
  },
  {
   "cell_type": "code",
   "execution_count": 256,
   "metadata": {},
   "outputs": [
    {
     "name": "stderr",
     "output_type": "stream",
     "text": [
      "/home/bentrey/myProjectDir/myProjectEnv/lib/python3.6/site-packages/sklearn/linear_model/logistic.py:947: ConvergenceWarning: lbfgs failed to converge. Increase the number of iterations.\n",
      "  \"of iterations.\", ConvergenceWarning)\n"
     ]
    },
    {
     "name": "stdout",
     "output_type": "stream",
     "text": [
      "max_iters: 100  score: 0.7141\n",
      "max_iters: 500  score: 0.7153\n",
      "max_iters: 1000  score: 0.7153\n",
      "max_iters: 2000  score: 0.7153\n",
      "max_iters: 4000  score: 0.7153\n"
     ]
    }
   ],
   "source": [
    "#the grid of parameters to search over\n",
    "iters = [100, 500, 1000, 2000, 4000]\n",
    "\n",
    "# your turn\n",
    "for it in iters:\n",
    "    clf = LogisticRegression(C=0.1, solver='lbfgs',max_iter=it)\n",
    "    clf.fit(x_train, y_train)\n",
    "    accuracy = accuracy_score(clf.predict(x_test), y_test)\n",
    "    print(\"max_iters:\",it,\" score:\",accuracy)"
   ]
  },
  {
   "cell_type": "code",
   "execution_count": null,
   "metadata": {},
   "outputs": [],
   "source": []
  }
 ],
 "metadata": {
  "kernelspec": {
   "display_name": "Python 3",
   "language": "python",
   "name": "python3"
  },
  "language_info": {
   "codemirror_mode": {
    "name": "ipython",
    "version": 3
   },
   "file_extension": ".py",
   "mimetype": "text/x-python",
   "name": "python",
   "nbconvert_exporter": "python",
   "pygments_lexer": "ipython3",
   "version": "3.6.8"
  }
 },
 "nbformat": 4,
 "nbformat_minor": 2
}
